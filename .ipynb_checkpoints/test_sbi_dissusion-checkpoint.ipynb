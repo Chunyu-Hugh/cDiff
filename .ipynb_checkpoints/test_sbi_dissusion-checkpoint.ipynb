{
 "cells": [
  {
   "cell_type": "code",
   "execution_count": 1,
   "id": "f08df9f0-ec58-40f8-9b6d-b11826c8dae6",
   "metadata": {},
   "outputs": [
    {
     "name": "stderr",
     "output_type": "stream",
     "text": [
      "/tmp/ipykernel_2538109/2734750727.py:4: DeprecationWarning: \n",
      "Pyarrow will become a required dependency of pandas in the next major release of pandas (pandas 3.0),\n",
      "(to allow more performant data types, such as the Arrow string type, and better interoperability with other libraries)\n",
      "but was not found to be installed on your system.\n",
      "If this would cause problems for you,\n",
      "please provide us feedback at https://github.com/pandas-dev/pandas/issues/54466\n",
      "        \n",
      "  import pandas as pd\n"
     ]
    }
   ],
   "source": [
    "import torch\n",
    "import numpy as np\n",
    "import os\n",
    "import pandas as pd\n",
    "from datasets import load_dataset\n",
    "from models.neural_sampler import NormalizingFlowPosteriorSampler, DiffusionPosteriorSampler\n",
    "from evaluation.SBC import sample_sbc_calstats, evaluate_sbc\n",
    "from evaluation.TARP import get_ecp_area_difference\n",
    "from utils import *"
   ]
  },
  {
   "cell_type": "code",
   "execution_count": 14,
   "id": "82f30924-664c-4767-a946-c828c76865a9",
   "metadata": {},
   "outputs": [
    {
     "name": "stdout",
     "output_type": "stream",
     "text": [
      "评测模型读取目录: result/normal_wishart\n"
     ]
    }
   ],
   "source": [
    "import os\n",
    "\n",
    "# 需要与训练时保持一致\n",
    "DATASET = \"normal_wishart\"           # 数据集名  <-- 改了\n",
    "MODEL_TYPE = \"Diffusion\"             # 训练用的\n",
    "NICKNAME = None                      # 如有特殊后缀,一般为空\n",
    "SEED = 1                             # 如10次评测，可以for loop改SEED\n",
    "DEVICE = 0                           # GPU编号\n",
    "SAVE_PATH_ROOT = \"result\"            # 训练时--save_path参数\n",
    "EPOCHS = 4960                        # 训练时--epochs\n",
    "DATA_TYPE = \"iid\"                    # 训练时--data_type\n",
    "USE_ENCODER = True                   # 训练时--use_encoder\n",
    "N_BATCHES = 2                        # 数据批次配置,和训练时一致\n",
    "BATCH_SIZE = 128                     # 数据批次配置,和训练时一致\n",
    "\n",
    "# 评估相关\n",
    "N_CAL = 1000\n",
    "L = 100\n",
    "ECP_N_SIM = 100       # 训练时传了--ecp_n_sim=100\n",
    "ECP_N_SAMPLES = 200   # 训练时传了--ecp_n_samples=200\n",
    "ALPHA = 0.1           # 默认\n",
    "NUM_HIDDEN_LAYER = 4  # 默认\n",
    "SIGMA_DATA = 0.5      # 默认，若训练用empirical sigma要去查权重的sigma\n",
    "use_emperical_sigma = True\n",
    "num_hidden_layer = 4\n",
    "# 路径\n",
    "SAVE_PATH = os.path.join(SAVE_PATH_ROOT, DATASET)\n",
    "assert os.path.exists(SAVE_PATH), f\"Save path不存在: {SAVE_PATH}\"\n",
    "print(f\"评测模型读取目录: {SAVE_PATH}\")"
   ]
  },
  {
   "cell_type": "code",
   "execution_count": 15,
   "id": "1a1b87ed-a7bb-4b16-b6dc-c9884847b8a1",
   "metadata": {},
   "outputs": [
    {
     "name": "stdout",
     "output_type": "stream",
     "text": [
      "y_dim: 4, theta_dim: 14\n"
     ]
    }
   ],
   "source": [
    "dataset_generator, sample_theta, sample_data = load_dataset(DATASET)\n",
    "\n",
    "# 用于确定输入输出维度\n",
    "if USE_ENCODER:\n",
    "    dl = dataset_generator(N_BATCHES, BATCH_SIZE, return_ds=False)\n",
    "else:\n",
    "    dl = dataset_generator(N_BATCHES, BATCH_SIZE, n_sample=1, return_ds=False)\n",
    "\n",
    "theta, y = next(iter(dl))\n",
    "y_dim = y.shape[-1]\n",
    "theta_dim = theta.shape[1]\n",
    "print(f\"y_dim: {y_dim}, theta_dim: {theta_dim}\")\n",
    "# 为SBC/ECP等评测建立完整数据集\n",
    "dl, ds = dataset_generator(N_BATCHES, BATCH_SIZE, 1 if not USE_ENCODER else None, return_ds=True)"
   ]
  },
  {
   "cell_type": "code",
   "execution_count": 16,
   "id": "6603af16-4405-4256-b69a-16bb60d26fd1",
   "metadata": {},
   "outputs": [
    {
     "name": "stdout",
     "output_type": "stream",
     "text": [
      "Encoder is for iid data. If not, please check it.\n",
      "Model loaded from result/normal_wishart/4960_seed=1_Diffusion.pth\n",
      "模型加载完成\n"
     ]
    }
   ],
   "source": [
    "# 初始化模型\n",
    "if MODEL_TYPE == \"NormalizingFlow\":\n",
    "    model = NormalizingFlowPosteriorSampler(\n",
    "        y_dim=y_dim, x_dim=theta_dim, n_summaries=256,\n",
    "        hidden_dim_decoder=32, n_flows_decoder=32, alpha=ALPHA,\n",
    "        device=DEVICE, use_encoder=USE_ENCODER, data_type=DATA_TYPE\n",
    "    ).to(DEVICE)\n",
    "elif MODEL_TYPE == \"Diffusion\":\n",
    "    if use_emperical_sigma:\n",
    "        sigma_data = theta.std().item()\n",
    "    else:\n",
    "        sigma_data = 0.5\n",
    "    num_hidden_layer = num_hidden_layer\n",
    "    model = DiffusionPosteriorSampler(\n",
    "            y_dim=y_dim, x_dim=theta_dim, n_summaries=256, num_hidden_layer=NUM_HIDDEN_LAYER,\n",
    "            device=DEVICE, use_encoder=USE_ENCODER, data_type=DATA_TYPE, sigma_data=sigma_data\n",
    "        ).to(DEVICE)\n",
    "else:\n",
    "    raise NotImplementedError\n",
    "\n",
    "# 加载权重\n",
    "model = load_torch_model(model, SAVE_PATH, EPOCHS, SEED,  MODEL_TYPE if not NICKNAME else MODEL_TYPE + NICKNAME)\n",
    "print(\"模型加载完成\")"
   ]
  },
  {
   "cell_type": "code",
   "execution_count": 17,
   "id": "3a25d0b2-191d-4e62-9306-6058946b5c60",
   "metadata": {},
   "outputs": [
    {
     "name": "stderr",
     "output_type": "stream",
     "text": [
      "  0%|                                                                                                                                                                                       | 0/1000 [00:00<?, ?it/s]/home/chu034/Yaohang_Li/cDiff/models/diffusion.py:233: UserWarning: To copy construct from a tensor, it is recommended to use sourceTensor.detach().clone() or sourceTensor.detach().clone().requires_grad_(True), rather than torch.tensor(sourceTensor).\n",
      "  return torch.tensor(sigma)\n",
      "/home/chu034/Yaohang_Li/cDiff/models/diffusion.py:233: UserWarning: To copy construct from a tensor, it is recommended to use sourceTensor.detach().clone() or sourceTensor.detach().clone().requires_grad_(True), rather than torch.tensor(sourceTensor).\n",
      "  return torch.tensor(sigma)\n",
      "100%|████████████████████████████████████████████████████████████████████████████████████████████████████████████████████████████████████████████████████████████████████████████| 1000/1000 [00:40<00:00, 24.83it/s]\n"
     ]
    },
    {
     "name": "stdout",
     "output_type": "stream",
     "text": [
      "SBC/ECP评测完成\n"
     ]
    },
    {
     "name": "stderr",
     "output_type": "stream",
     "text": [
      "/home/chu034/Yaohang_Li/cDiff/models/diffusion.py:233: UserWarning: To copy construct from a tensor, it is recommended to use sourceTensor.detach().clone() or sourceTensor.detach().clone().requires_grad_(True), rather than torch.tensor(sourceTensor).\n",
      "  return torch.tensor(sigma)\n"
     ]
    }
   ],
   "source": [
    "# 计算SBC\n",
    "sbc_calstats = sample_sbc_calstats(ds, N_CAL, L, theta_dim, model, DEVICE)\n",
    "evaluation_sbc = evaluate_sbc(sbc_calstats, SEED, EPOCHS, MODEL_TYPE)\n",
    "\n",
    "# 计算ECP\n",
    "ecp_score, ecp, alpha = get_ecp_area_difference(ds, model, DEVICE, n_sim=ECP_N_SIM, n_samples=ECP_N_SAMPLES)\n",
    "evaluation_ecp = pd.DataFrame({\n",
    "    'epochs': [EPOCHS],\n",
    "    'ecp_score': [ecp_score],\n",
    "    'seed': [SEED],\n",
    "    'model_type': [MODEL_TYPE]\n",
    "})\n",
    "\n",
    "print(\"SBC/ECP评测完成\")"
   ]
  },
  {
   "cell_type": "code",
   "execution_count": 18,
   "id": "32fce31a-a0d1-4e96-8347-d16dbd6a128f",
   "metadata": {},
   "outputs": [
    {
     "name": "stderr",
     "output_type": "stream",
     "text": [
      "/home/chu034/Yaohang_Li/cDiff/utils.py:86: FutureWarning: The behavior of DataFrame concatenation with empty or all-NA entries is deprecated. In a future version, this will no longer exclude empty or all-NA columns when determining the result dtypes. To retain the old behavior, exclude the relevant entries before the concat operation.\n",
      "  updated_df = pd.concat([existing_df, df], ignore_index=True)\n"
     ]
    }
   ],
   "source": [
    "evaluation_sbc_save_path = f\"{SAVE_PATH}/evaluation_sbc.csv\"\n",
    "evaluation_ecp_save_path = f\"{SAVE_PATH}/evaluation_ecp.csv\"\n",
    "safe_update(evaluation_sbc, evaluation_sbc_save_path)\n",
    "safe_update(evaluation_ecp, evaluation_ecp_save_path)"
   ]
  },
  {
   "cell_type": "code",
   "execution_count": 21,
   "id": "adf726d1-93be-4ed3-aedd-ff73b9cd8e5b",
   "metadata": {},
   "outputs": [
    {
     "name": "stdout",
     "output_type": "stream",
     "text": [
      "   epochs      loss  seed model_type  training_time\n",
      "0       1  1.413351     1  Diffusion       2.433656\n",
      "1       2  1.514949     1  Diffusion       0.882675\n",
      "2       3  1.440322     1  Diffusion       0.663319\n",
      "3       4  1.123241     1  Diffusion       0.588618\n",
      "4       5  1.378083     1  Diffusion       0.601807\n"
     ]
    }
   ],
   "source": [
    "import pandas as pd\n",
    "\n",
    "# 读取数据\n",
    "df = pd.read_csv('/home/chu034/Yaohang_Li/cDiff/result/normal_wishart/loss.csv')  # 如果不是逗号分隔，加 delimiter 参数\n",
    "# 查看前几行\n",
    "print(df.head())"
   ]
  },
  {
   "cell_type": "code",
   "execution_count": 22,
   "id": "8c4ae13b-09a7-40fc-8f57-2b221db20beb",
   "metadata": {},
   "outputs": [
    {
     "data": {
      "image/png": "[encoded data removed]",
      "text/plain": [
       "<Figure size 1000x500 with 1 Axes>"
      ]
     },
     "metadata": {},
     "output_type": "display_data"
    }
   ],
   "source": [
    "import matplotlib.pyplot as plt\n",
    "\n",
    "# 只选择一种seed和model_type（如有多组可分不同子图/线条，这里为示例）\n",
    "df_plot = df[(df['seed'] == 1) & (df['model_type'] == 'Diffusion')]\n",
    "\n",
    "plt.figure(figsize=(10,5))\n",
    "plt.plot(df_plot['epochs'], df_plot['loss'], label='Loss (Diffusion, seed=1)')\n",
    "plt.xlabel('Epoch')\n",
    "plt.ylabel('Loss')\n",
    "plt.title('Training Loss Curve')\n",
    "plt.legend()\n",
    "plt.grid(True)\n",
    "plt.tight_layout()\n",
    "plt.show()"
   ]
  },
  {
   "cell_type": "code",
   "execution_count": null,
   "id": "6e42c3c6-8122-4a00-9098-2fb3f5010b7a",
   "metadata": {},
   "outputs": [],
   "source": []
  }
 ],
 "metadata": {
  "kernelspec": {
   "display_name": "Python 3 (ipykernel)",
   "language": "python",
   "name": "python3"
  },
  "language_info": {
   "codemirror_mode": {
    "name": "ipython",
    "version": 3
   },
   "file_extension": ".py",
   "mimetype": "text/x-python",
   "name": "python",
   "nbconvert_exporter": "python",
   "pygments_lexer": "ipython3",
   "version": "3.12.0"
  }
 },
 "nbformat": 4,
 "nbformat_minor": 5
}
